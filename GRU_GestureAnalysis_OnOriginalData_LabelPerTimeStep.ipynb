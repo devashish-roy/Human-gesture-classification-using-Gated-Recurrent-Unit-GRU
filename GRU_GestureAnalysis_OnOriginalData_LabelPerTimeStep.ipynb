{
  "nbformat": 4,
  "nbformat_minor": 0,
  "metadata": {
    "colab": {
      "provenance": [],
      "gpuType": "T4",
      "authorship_tag": "ABX9TyNxY0tVXe2avKFblt3nIYfM",
      "include_colab_link": true
    },
    "kernelspec": {
      "name": "python3",
      "display_name": "Python 3"
    },
    "language_info": {
      "name": "python"
    },
    "accelerator": "GPU"
  },
  "cells": [
    {
      "cell_type": "markdown",
      "metadata": {
        "id": "view-in-github",
        "colab_type": "text"
      },
      "source": [
        "<a href=\"https://colab.research.google.com/github/devashish-roy/gated-recurrent-unit-GRU-/blob/main/GRU_GestureAnalysis_OnOriginalData_LabelPerTimeStep.ipynb\" target=\"_parent\"><img src=\"https://colab.research.google.com/assets/colab-badge.svg\" alt=\"Open In Colab\"/></a>"
      ]
    },
    {
      "cell_type": "markdown",
      "source": [
        "**Implemenataion of GRU for the gesture classification**  "
      ],
      "metadata": {
        "id": "8Z1lL8vhTgqT"
      }
    },
    {
      "cell_type": "code",
      "execution_count": null,
      "metadata": {
        "id": "W-ajazSqR7q_"
      },
      "outputs": [],
      "source": [
        "import torch\n",
        "import torch.nn as nn\n",
        "import torch.optim as optim\n",
        "import torch.nn.functional as F\n",
        "\n",
        "import numpy as np\n",
        "import pandas as pd\n",
        "import matplotlib.pyplot as plt\n",
        "import seaborn as sns\n",
        "from mpl_toolkits.mplot3d import Axes3D\n",
        "import torch\n",
        "import torch.nn as nn\n",
        "import torch.optim as optim\n",
        "from torch.utils.data import DataLoader, TensorDataset\n",
        "from sklearn.model_selection import train_test_split\n",
        "from sklearn.preprocessing import MinMaxScaler\n",
        "from google.colab import files\n"
      ]
    },
    {
      "cell_type": "code",
      "source": [
        "from google.colab import drive\n",
        "drive.mount('/content/drive')"
      ],
      "metadata": {
        "colab": {
          "base_uri": "https://localhost:8080/"
        },
        "id": "QAGa0SR2VbU3",
        "outputId": "f9f07dba-eaa1-4aa7-ccc4-d7bf7c98da59"
      },
      "execution_count": null,
      "outputs": [
        {
          "output_type": "stream",
          "name": "stdout",
          "text": [
            "Mounted at /content/drive\n"
          ]
        }
      ]
    },
    {
      "cell_type": "code",
      "source": [
        "if torch.cuda.is_available():\n",
        "    device = torch.device(\"cuda\")\n",
        "else:\n",
        "    device = torch.device(\"cpu\")"
      ],
      "metadata": {
        "id": "BR7AeaFbVbSA"
      },
      "execution_count": null,
      "outputs": []
    },
    {
      "cell_type": "markdown",
      "source": [
        "Start from here, if re-running. Data is already pre-processed and saved in this xls. The code for pre-processing the data is in other notebook GRU_GestureAnalysis.ipynb"
      ],
      "metadata": {
        "id": "niAq07VLR3ir"
      }
    },
    {
      "cell_type": "code",
      "source": [
        "# the pre-processed data xls\n",
        "data = pd.read_excel('/content/drive/My Drive/Colab Notebooks/Advance data mining/preprocessed_data.xlsx')"
      ],
      "metadata": {
        "id": "iXfnOPSKzSCa"
      },
      "execution_count": null,
      "outputs": []
    },
    {
      "cell_type": "code",
      "source": [
        "# Remove name column\n",
        "data = data.drop('name_encoded', axis=1)\n",
        "\n",
        "# Drop columns for new features added in pre-processong. Those columns starts with column name Dist_Join*\n",
        "cols_to_drop = data.filter(like='Dist_Join', axis=1).columns  # Find columns starting with 'Dist_Join'\n",
        "\n",
        "# Drop the identified columns\n",
        "data = data.drop(columns=cols_to_drop)"
      ],
      "metadata": {
        "id": "4eQiEGrWzR-n"
      },
      "execution_count": null,
      "outputs": []
    },
    {
      "cell_type": "code",
      "source": [
        "# copy the data to preprocessed_data\n",
        "preprocessed_data = data.copy()"
      ],
      "metadata": {
        "id": "KMY-Oc4fzR3p"
      },
      "execution_count": null,
      "outputs": []
    },
    {
      "cell_type": "code",
      "source": [
        "preprocessed_data.head()"
      ],
      "metadata": {
        "colab": {
          "base_uri": "https://localhost:8080/",
          "height": 255
        },
        "id": "Gmo7uS6O3N69",
        "outputId": "be0b1193-ec17-43a0-bc3b-3f89c5c1d0a7"
      },
      "execution_count": null,
      "outputs": [
        {
          "output_type": "execute_result",
          "data": {
            "text/plain": [
              "         x1        y1        z1        x2        y2        z2        x3  \\\n",
              "0 -0.377219  0.676463  2.477132 -0.367249  0.493018  2.566909 -0.529421   \n",
              "1 -0.376956  0.676517  2.476770 -0.366931  0.492976  2.566630 -0.529115   \n",
              "2 -0.377076  0.676532  2.476376 -0.366147  0.492745  2.566584 -0.528687   \n",
              "3 -0.377247  0.675063  2.476167 -0.366134  0.492734  2.566559 -0.528485   \n",
              "4 -0.377483  0.674604  2.476354 -0.366084  0.492718  2.566469 -0.528106   \n",
              "\n",
              "         y3        z3        x4  ...       x18       y18       z18       x19  \\\n",
              "0  0.355840  2.576270 -0.194301  ... -0.229579 -0.865148  2.683695 -0.466046   \n",
              "1  0.355951  2.576212 -0.194166  ... -0.229124 -0.866005  2.683765 -0.484327   \n",
              "2  0.355584  2.575751 -0.194098  ... -0.229045 -0.866254  2.684294 -0.484638   \n",
              "3  0.355650  2.575728 -0.194087  ... -0.229039 -0.866281  2.684332 -0.466230   \n",
              "4  0.355623  2.575532 -0.194132  ... -0.228421 -0.867698  2.685030 -0.466177   \n",
              "\n",
              "        y19       z19       x20       y20       z20  action_encoded  \n",
              "0 -0.898524  2.631478 -0.207994 -0.936921  2.647322               0  \n",
              "1 -0.924024  2.698534 -0.207764 -0.937304  2.633385               0  \n",
              "2 -0.926029  2.699292 -0.207359 -0.937390  2.639276               0  \n",
              "3 -0.898756  2.632194 -0.209036 -0.937718  2.646430               0  \n",
              "4 -0.899217  2.631851 -0.209116 -0.938717  2.646000               0  \n",
              "\n",
              "[5 rows x 61 columns]"
            ],
            "text/html": [
              "\n",
              "  <div id=\"df-2320e689-c648-4330-8d8e-43b73ceb6094\" class=\"colab-df-container\">\n",
              "    <div>\n",
              "<style scoped>\n",
              "    .dataframe tbody tr th:only-of-type {\n",
              "        vertical-align: middle;\n",
              "    }\n",
              "\n",
              "    .dataframe tbody tr th {\n",
              "        vertical-align: top;\n",
              "    }\n",
              "\n",
              "    .dataframe thead th {\n",
              "        text-align: right;\n",
              "    }\n",
              "</style>\n",
              "<table border=\"1\" class=\"dataframe\">\n",
              "  <thead>\n",
              "    <tr style=\"text-align: right;\">\n",
              "      <th></th>\n",
              "      <th>x1</th>\n",
              "      <th>y1</th>\n",
              "      <th>z1</th>\n",
              "      <th>x2</th>\n",
              "      <th>y2</th>\n",
              "      <th>z2</th>\n",
              "      <th>x3</th>\n",
              "      <th>y3</th>\n",
              "      <th>z3</th>\n",
              "      <th>x4</th>\n",
              "      <th>...</th>\n",
              "      <th>x18</th>\n",
              "      <th>y18</th>\n",
              "      <th>z18</th>\n",
              "      <th>x19</th>\n",
              "      <th>y19</th>\n",
              "      <th>z19</th>\n",
              "      <th>x20</th>\n",
              "      <th>y20</th>\n",
              "      <th>z20</th>\n",
              "      <th>action_encoded</th>\n",
              "    </tr>\n",
              "  </thead>\n",
              "  <tbody>\n",
              "    <tr>\n",
              "      <th>0</th>\n",
              "      <td>-0.377219</td>\n",
              "      <td>0.676463</td>\n",
              "      <td>2.477132</td>\n",
              "      <td>-0.367249</td>\n",
              "      <td>0.493018</td>\n",
              "      <td>2.566909</td>\n",
              "      <td>-0.529421</td>\n",
              "      <td>0.355840</td>\n",
              "      <td>2.576270</td>\n",
              "      <td>-0.194301</td>\n",
              "      <td>...</td>\n",
              "      <td>-0.229579</td>\n",
              "      <td>-0.865148</td>\n",
              "      <td>2.683695</td>\n",
              "      <td>-0.466046</td>\n",
              "      <td>-0.898524</td>\n",
              "      <td>2.631478</td>\n",
              "      <td>-0.207994</td>\n",
              "      <td>-0.936921</td>\n",
              "      <td>2.647322</td>\n",
              "      <td>0</td>\n",
              "    </tr>\n",
              "    <tr>\n",
              "      <th>1</th>\n",
              "      <td>-0.376956</td>\n",
              "      <td>0.676517</td>\n",
              "      <td>2.476770</td>\n",
              "      <td>-0.366931</td>\n",
              "      <td>0.492976</td>\n",
              "      <td>2.566630</td>\n",
              "      <td>-0.529115</td>\n",
              "      <td>0.355951</td>\n",
              "      <td>2.576212</td>\n",
              "      <td>-0.194166</td>\n",
              "      <td>...</td>\n",
              "      <td>-0.229124</td>\n",
              "      <td>-0.866005</td>\n",
              "      <td>2.683765</td>\n",
              "      <td>-0.484327</td>\n",
              "      <td>-0.924024</td>\n",
              "      <td>2.698534</td>\n",
              "      <td>-0.207764</td>\n",
              "      <td>-0.937304</td>\n",
              "      <td>2.633385</td>\n",
              "      <td>0</td>\n",
              "    </tr>\n",
              "    <tr>\n",
              "      <th>2</th>\n",
              "      <td>-0.377076</td>\n",
              "      <td>0.676532</td>\n",
              "      <td>2.476376</td>\n",
              "      <td>-0.366147</td>\n",
              "      <td>0.492745</td>\n",
              "      <td>2.566584</td>\n",
              "      <td>-0.528687</td>\n",
              "      <td>0.355584</td>\n",
              "      <td>2.575751</td>\n",
              "      <td>-0.194098</td>\n",
              "      <td>...</td>\n",
              "      <td>-0.229045</td>\n",
              "      <td>-0.866254</td>\n",
              "      <td>2.684294</td>\n",
              "      <td>-0.484638</td>\n",
              "      <td>-0.926029</td>\n",
              "      <td>2.699292</td>\n",
              "      <td>-0.207359</td>\n",
              "      <td>-0.937390</td>\n",
              "      <td>2.639276</td>\n",
              "      <td>0</td>\n",
              "    </tr>\n",
              "    <tr>\n",
              "      <th>3</th>\n",
              "      <td>-0.377247</td>\n",
              "      <td>0.675063</td>\n",
              "      <td>2.476167</td>\n",
              "      <td>-0.366134</td>\n",
              "      <td>0.492734</td>\n",
              "      <td>2.566559</td>\n",
              "      <td>-0.528485</td>\n",
              "      <td>0.355650</td>\n",
              "      <td>2.575728</td>\n",
              "      <td>-0.194087</td>\n",
              "      <td>...</td>\n",
              "      <td>-0.229039</td>\n",
              "      <td>-0.866281</td>\n",
              "      <td>2.684332</td>\n",
              "      <td>-0.466230</td>\n",
              "      <td>-0.898756</td>\n",
              "      <td>2.632194</td>\n",
              "      <td>-0.209036</td>\n",
              "      <td>-0.937718</td>\n",
              "      <td>2.646430</td>\n",
              "      <td>0</td>\n",
              "    </tr>\n",
              "    <tr>\n",
              "      <th>4</th>\n",
              "      <td>-0.377483</td>\n",
              "      <td>0.674604</td>\n",
              "      <td>2.476354</td>\n",
              "      <td>-0.366084</td>\n",
              "      <td>0.492718</td>\n",
              "      <td>2.566469</td>\n",
              "      <td>-0.528106</td>\n",
              "      <td>0.355623</td>\n",
              "      <td>2.575532</td>\n",
              "      <td>-0.194132</td>\n",
              "      <td>...</td>\n",
              "      <td>-0.228421</td>\n",
              "      <td>-0.867698</td>\n",
              "      <td>2.685030</td>\n",
              "      <td>-0.466177</td>\n",
              "      <td>-0.899217</td>\n",
              "      <td>2.631851</td>\n",
              "      <td>-0.209116</td>\n",
              "      <td>-0.938717</td>\n",
              "      <td>2.646000</td>\n",
              "      <td>0</td>\n",
              "    </tr>\n",
              "  </tbody>\n",
              "</table>\n",
              "<p>5 rows × 61 columns</p>\n",
              "</div>\n",
              "    <div class=\"colab-df-buttons\">\n",
              "\n",
              "  <div class=\"colab-df-container\">\n",
              "    <button class=\"colab-df-convert\" onclick=\"convertToInteractive('df-2320e689-c648-4330-8d8e-43b73ceb6094')\"\n",
              "            title=\"Convert this dataframe to an interactive table.\"\n",
              "            style=\"display:none;\">\n",
              "\n",
              "  <svg xmlns=\"http://www.w3.org/2000/svg\" height=\"24px\" viewBox=\"0 -960 960 960\">\n",
              "    <path d=\"M120-120v-720h720v720H120Zm60-500h600v-160H180v160Zm220 220h160v-160H400v160Zm0 220h160v-160H400v160ZM180-400h160v-160H180v160Zm440 0h160v-160H620v160ZM180-180h160v-160H180v160Zm440 0h160v-160H620v160Z\"/>\n",
              "  </svg>\n",
              "    </button>\n",
              "\n",
              "  <style>\n",
              "    .colab-df-container {\n",
              "      display:flex;\n",
              "      gap: 12px;\n",
              "    }\n",
              "\n",
              "    .colab-df-convert {\n",
              "      background-color: #E8F0FE;\n",
              "      border: none;\n",
              "      border-radius: 50%;\n",
              "      cursor: pointer;\n",
              "      display: none;\n",
              "      fill: #1967D2;\n",
              "      height: 32px;\n",
              "      padding: 0 0 0 0;\n",
              "      width: 32px;\n",
              "    }\n",
              "\n",
              "    .colab-df-convert:hover {\n",
              "      background-color: #E2EBFA;\n",
              "      box-shadow: 0px 1px 2px rgba(60, 64, 67, 0.3), 0px 1px 3px 1px rgba(60, 64, 67, 0.15);\n",
              "      fill: #174EA6;\n",
              "    }\n",
              "\n",
              "    .colab-df-buttons div {\n",
              "      margin-bottom: 4px;\n",
              "    }\n",
              "\n",
              "    [theme=dark] .colab-df-convert {\n",
              "      background-color: #3B4455;\n",
              "      fill: #D2E3FC;\n",
              "    }\n",
              "\n",
              "    [theme=dark] .colab-df-convert:hover {\n",
              "      background-color: #434B5C;\n",
              "      box-shadow: 0px 1px 3px 1px rgba(0, 0, 0, 0.15);\n",
              "      filter: drop-shadow(0px 1px 2px rgba(0, 0, 0, 0.3));\n",
              "      fill: #FFFFFF;\n",
              "    }\n",
              "  </style>\n",
              "\n",
              "    <script>\n",
              "      const buttonEl =\n",
              "        document.querySelector('#df-2320e689-c648-4330-8d8e-43b73ceb6094 button.colab-df-convert');\n",
              "      buttonEl.style.display =\n",
              "        google.colab.kernel.accessAllowed ? 'block' : 'none';\n",
              "\n",
              "      async function convertToInteractive(key) {\n",
              "        const element = document.querySelector('#df-2320e689-c648-4330-8d8e-43b73ceb6094');\n",
              "        const dataTable =\n",
              "          await google.colab.kernel.invokeFunction('convertToInteractive',\n",
              "                                                    [key], {});\n",
              "        if (!dataTable) return;\n",
              "\n",
              "        const docLinkHtml = 'Like what you see? Visit the ' +\n",
              "          '<a target=\"_blank\" href=https://colab.research.google.com/notebooks/data_table.ipynb>data table notebook</a>'\n",
              "          + ' to learn more about interactive tables.';\n",
              "        element.innerHTML = '';\n",
              "        dataTable['output_type'] = 'display_data';\n",
              "        await google.colab.output.renderOutput(dataTable, element);\n",
              "        const docLink = document.createElement('div');\n",
              "        docLink.innerHTML = docLinkHtml;\n",
              "        element.appendChild(docLink);\n",
              "      }\n",
              "    </script>\n",
              "  </div>\n",
              "\n",
              "\n",
              "<div id=\"df-efe3be6c-2ac9-4e5b-9a2b-7795ef1e4341\">\n",
              "  <button class=\"colab-df-quickchart\" onclick=\"quickchart('df-efe3be6c-2ac9-4e5b-9a2b-7795ef1e4341')\"\n",
              "            title=\"Suggest charts\"\n",
              "            style=\"display:none;\">\n",
              "\n",
              "<svg xmlns=\"http://www.w3.org/2000/svg\" height=\"24px\"viewBox=\"0 0 24 24\"\n",
              "     width=\"24px\">\n",
              "    <g>\n",
              "        <path d=\"M19 3H5c-1.1 0-2 .9-2 2v14c0 1.1.9 2 2 2h14c1.1 0 2-.9 2-2V5c0-1.1-.9-2-2-2zM9 17H7v-7h2v7zm4 0h-2V7h2v10zm4 0h-2v-4h2v4z\"/>\n",
              "    </g>\n",
              "</svg>\n",
              "  </button>\n",
              "\n",
              "<style>\n",
              "  .colab-df-quickchart {\n",
              "      --bg-color: #E8F0FE;\n",
              "      --fill-color: #1967D2;\n",
              "      --hover-bg-color: #E2EBFA;\n",
              "      --hover-fill-color: #174EA6;\n",
              "      --disabled-fill-color: #AAA;\n",
              "      --disabled-bg-color: #DDD;\n",
              "  }\n",
              "\n",
              "  [theme=dark] .colab-df-quickchart {\n",
              "      --bg-color: #3B4455;\n",
              "      --fill-color: #D2E3FC;\n",
              "      --hover-bg-color: #434B5C;\n",
              "      --hover-fill-color: #FFFFFF;\n",
              "      --disabled-bg-color: #3B4455;\n",
              "      --disabled-fill-color: #666;\n",
              "  }\n",
              "\n",
              "  .colab-df-quickchart {\n",
              "    background-color: var(--bg-color);\n",
              "    border: none;\n",
              "    border-radius: 50%;\n",
              "    cursor: pointer;\n",
              "    display: none;\n",
              "    fill: var(--fill-color);\n",
              "    height: 32px;\n",
              "    padding: 0;\n",
              "    width: 32px;\n",
              "  }\n",
              "\n",
              "  .colab-df-quickchart:hover {\n",
              "    background-color: var(--hover-bg-color);\n",
              "    box-shadow: 0 1px 2px rgba(60, 64, 67, 0.3), 0 1px 3px 1px rgba(60, 64, 67, 0.15);\n",
              "    fill: var(--button-hover-fill-color);\n",
              "  }\n",
              "\n",
              "  .colab-df-quickchart-complete:disabled,\n",
              "  .colab-df-quickchart-complete:disabled:hover {\n",
              "    background-color: var(--disabled-bg-color);\n",
              "    fill: var(--disabled-fill-color);\n",
              "    box-shadow: none;\n",
              "  }\n",
              "\n",
              "  .colab-df-spinner {\n",
              "    border: 2px solid var(--fill-color);\n",
              "    border-color: transparent;\n",
              "    border-bottom-color: var(--fill-color);\n",
              "    animation:\n",
              "      spin 1s steps(1) infinite;\n",
              "  }\n",
              "\n",
              "  @keyframes spin {\n",
              "    0% {\n",
              "      border-color: transparent;\n",
              "      border-bottom-color: var(--fill-color);\n",
              "      border-left-color: var(--fill-color);\n",
              "    }\n",
              "    20% {\n",
              "      border-color: transparent;\n",
              "      border-left-color: var(--fill-color);\n",
              "      border-top-color: var(--fill-color);\n",
              "    }\n",
              "    30% {\n",
              "      border-color: transparent;\n",
              "      border-left-color: var(--fill-color);\n",
              "      border-top-color: var(--fill-color);\n",
              "      border-right-color: var(--fill-color);\n",
              "    }\n",
              "    40% {\n",
              "      border-color: transparent;\n",
              "      border-right-color: var(--fill-color);\n",
              "      border-top-color: var(--fill-color);\n",
              "    }\n",
              "    60% {\n",
              "      border-color: transparent;\n",
              "      border-right-color: var(--fill-color);\n",
              "    }\n",
              "    80% {\n",
              "      border-color: transparent;\n",
              "      border-right-color: var(--fill-color);\n",
              "      border-bottom-color: var(--fill-color);\n",
              "    }\n",
              "    90% {\n",
              "      border-color: transparent;\n",
              "      border-bottom-color: var(--fill-color);\n",
              "    }\n",
              "  }\n",
              "</style>\n",
              "\n",
              "  <script>\n",
              "    async function quickchart(key) {\n",
              "      const quickchartButtonEl =\n",
              "        document.querySelector('#' + key + ' button');\n",
              "      quickchartButtonEl.disabled = true;  // To prevent multiple clicks.\n",
              "      quickchartButtonEl.classList.add('colab-df-spinner');\n",
              "      try {\n",
              "        const charts = await google.colab.kernel.invokeFunction(\n",
              "            'suggestCharts', [key], {});\n",
              "      } catch (error) {\n",
              "        console.error('Error during call to suggestCharts:', error);\n",
              "      }\n",
              "      quickchartButtonEl.classList.remove('colab-df-spinner');\n",
              "      quickchartButtonEl.classList.add('colab-df-quickchart-complete');\n",
              "    }\n",
              "    (() => {\n",
              "      let quickchartButtonEl =\n",
              "        document.querySelector('#df-efe3be6c-2ac9-4e5b-9a2b-7795ef1e4341 button');\n",
              "      quickchartButtonEl.style.display =\n",
              "        google.colab.kernel.accessAllowed ? 'block' : 'none';\n",
              "    })();\n",
              "  </script>\n",
              "</div>\n",
              "\n",
              "    </div>\n",
              "  </div>\n"
            ],
            "application/vnd.google.colaboratory.intrinsic+json": {
              "type": "dataframe",
              "variable_name": "preprocessed_data"
            }
          },
          "metadata": {},
          "execution_count": 7
        }
      ]
    },
    {
      "cell_type": "markdown",
      "source": [
        "Split the data in Train (70%), validation(15%) and test(15%) set"
      ],
      "metadata": {
        "id": "-gbrvKmKvfV5"
      }
    },
    {
      "cell_type": "code",
      "source": [
        "# Splitting Dataset into training, validation and testing sets\n",
        "from sklearn.model_selection import train_test_split\n",
        "X = preprocessed_data.iloc[:, :-1]\n",
        "y = preprocessed_data.iloc[:, -1:]\n",
        "\n",
        "X_train, X_test, y_train, y_test = train_test_split(X, y, test_size=0.3, random_state=42,shuffle=True)\n",
        "\n",
        "X_test, X_val, y_test, y_val = train_test_split(X_test, y_test, test_size=0.5, random_state=42,shuffle=True)\n",
        "\n",
        "\n",
        "print(X_train.shape, X_test.shape, X_val.shape)\n",
        "\n",
        "print(y_train.shape, y_test.shape, y_val.shape)"
      ],
      "metadata": {
        "colab": {
          "base_uri": "https://localhost:8080/"
        },
        "id": "OM_-csCdVa4U",
        "outputId": "def84a96-612d-4807-dfcb-53c0c82d9fdb"
      },
      "execution_count": null,
      "outputs": [
        {
          "output_type": "stream",
          "name": "stdout",
          "text": [
            "(140737, 60) (30158, 60) (30159, 60)\n",
            "(140737, 1) (30158, 1) (30159, 1)\n"
          ]
        }
      ]
    },
    {
      "cell_type": "markdown",
      "source": [
        "Normalise the data"
      ],
      "metadata": {
        "id": "MAlH7RKCvblO"
      }
    },
    {
      "cell_type": "code",
      "source": [
        "from sklearn.preprocessing import MinMaxScaler\n",
        "\n",
        "# Create a MinMaxScaler object\n",
        "scaler = MinMaxScaler()\n",
        "\n",
        "# Fit the scaler on the training data and transform both training and testing data\n",
        "X_train = scaler.fit_transform(X_train)\n",
        "X_test = scaler.transform(X_test)\n",
        "X_val = scaler.transform(X_val)"
      ],
      "metadata": {
        "id": "i5ycOha1Va0m"
      },
      "execution_count": null,
      "outputs": []
    },
    {
      "cell_type": "code",
      "source": [
        "X_train"
      ],
      "metadata": {
        "colab": {
          "base_uri": "https://localhost:8080/"
        },
        "id": "yhNvUFsbvVCH",
        "outputId": "2621ff69-61f3-4c0a-eca6-a012c359ca62"
      },
      "execution_count": null,
      "outputs": [
        {
          "output_type": "execute_result",
          "data": {
            "text/plain": [
              "array([[0.10872339, 0.46836816, 0.62495789, ..., 0.0956619 , 0.31411227,\n",
              "        0.57542542],\n",
              "       [0.40416339, 0.68069644, 0.6595241 , ..., 0.49425943, 0.34971033,\n",
              "        0.45172809],\n",
              "       [0.58278039, 0.53529359, 0.34242867, ..., 0.5959725 , 0.30973242,\n",
              "        0.39405931],\n",
              "       ...,\n",
              "       [0.48661945, 0.53567732, 0.22114891, ..., 0.53996868, 0.30253429,\n",
              "        0.2886285 ],\n",
              "       [0.3207362 , 0.61609575, 0.67416212, ..., 0.35802198, 0.39781302,\n",
              "        0.56254864],\n",
              "       [0.4212638 , 0.60557459, 0.67484357, ..., 0.40594062, 0.33479483,\n",
              "        0.56961769]])"
            ]
          },
          "metadata": {},
          "execution_count": 10
        }
      ]
    },
    {
      "cell_type": "code",
      "source": [
        "X_train.shape"
      ],
      "metadata": {
        "colab": {
          "base_uri": "https://localhost:8080/"
        },
        "id": "TrVLQJ6tvT3i",
        "outputId": "ccc3f6f5-415b-4d6c-fc52-f8a0bd27732c"
      },
      "execution_count": null,
      "outputs": [
        {
          "output_type": "execute_result",
          "data": {
            "text/plain": [
              "(140737, 60)"
            ]
          },
          "metadata": {},
          "execution_count": 11
        }
      ]
    },
    {
      "cell_type": "code",
      "source": [
        "y_train.shape"
      ],
      "metadata": {
        "colab": {
          "base_uri": "https://localhost:8080/"
        },
        "id": "9gGLXbsOvT0W",
        "outputId": "8195516b-79ae-4db5-e00a-40497069bc52"
      },
      "execution_count": null,
      "outputs": [
        {
          "output_type": "execute_result",
          "data": {
            "text/plain": [
              "(140737, 1)"
            ]
          },
          "metadata": {},
          "execution_count": 12
        }
      ]
    },
    {
      "cell_type": "markdown",
      "source": [
        "**Implementation of GRU**"
      ],
      "metadata": {
        "id": "hVoMTBTXVWnE"
      }
    },
    {
      "cell_type": "code",
      "source": [
        "class GRUCell(nn.Module):\n",
        "    def __init__(self, input_size, hidden_size):\n",
        "        super(GRUCell, self).__init__()\n",
        "        self.hidden_size = hidden_size\n",
        "\n",
        "        # Weights for the update gate\n",
        "        self.W_z = nn.Linear(input_size, hidden_size)\n",
        "        self.U_z = nn.Linear(hidden_size, hidden_size)\n",
        "\n",
        "        # Weights for the reset gate\n",
        "        self.W_r = nn.Linear(input_size, hidden_size)\n",
        "        self.U_r = nn.Linear(hidden_size, hidden_size)\n",
        "\n",
        "        # Weights for the candidate hidden state\n",
        "        self.W_h = nn.Linear(input_size, hidden_size)\n",
        "        self.U_h = nn.Linear(hidden_size, hidden_size)\n",
        "\n",
        "    def forward(self, x, h_prev):\n",
        "        # Update gate\n",
        "        z_t = torch.sigmoid(self.W_z(x) + self.U_z(h_prev))\n",
        "\n",
        "        # Reset gate\n",
        "        r_t = torch.sigmoid(self.W_r(x) + self.U_r(h_prev))\n",
        "\n",
        "        # Candidate hidden state\n",
        "        h_tilde = torch.tanh(self.W_h(x) + r_t * self.U_h(h_prev))\n",
        "\n",
        "        # New hidden state\n",
        "        h_t = (1 - z_t) * h_prev + z_t * h_tilde\n",
        "\n",
        "        return h_t\n"
      ],
      "metadata": {
        "id": "IrXuUgVFSClD"
      },
      "execution_count": null,
      "outputs": []
    },
    {
      "cell_type": "code",
      "source": [
        "class GRUNet(nn.Module):\n",
        "    def __init__(self, input_size, hidden_size, output_size, num_layers=1):\n",
        "        super(GRUNet, self).__init__()\n",
        "\n",
        "        self.hidden_size = hidden_size\n",
        "        self.num_layers = num_layers\n",
        "\n",
        "        # Stack multiple GRU cells for multi-layer GRU\n",
        "        self.gru_cells = nn.ModuleList([GRUCell(input_size, hidden_size)] +\n",
        "                                       [GRUCell(hidden_size, hidden_size) for _ in range(num_layers - 1)])\n",
        "\n",
        "        # Fully connected layer for classification output (output_size = number of classes)\n",
        "        self.fc = nn.Linear(hidden_size, output_size)\n",
        "\n",
        "    def forward(self, x):\n",
        "        batch_size, seq_length, input_size = x.size()\n",
        "\n",
        "        # Initialize hidden states for each layer\n",
        "        h_t = [torch.zeros(batch_size, self.hidden_size).to(x.device) for _ in range(self.num_layers)]\n",
        "\n",
        "        # Store outputs for every time step\n",
        "        outputs = []\n",
        "\n",
        "        # Process each time step\n",
        "        for t in range(seq_length):\n",
        "            x_t = x[:, t, :] # shape (batch_size, input_size (i.e. 64,79))..For all the sequences(64) in the batch, get all the features (79) at 't' timestep\n",
        "            for i in range(self.num_layers):\n",
        "                h_t[i] = self.gru_cells[i](x_t, h_t[i])\n",
        "                x_t = h_t[i]  # Output of one layer is the input to the next layer\n",
        "            # Compute output for each time step using the last hidden state\n",
        "            output = self.fc(h_t[-1])  # Shape (batch_size, output_size)\n",
        "            outputs.append(output.unsqueeze(1))  # Append output of shape (batch_size, 1, output_size)\n",
        "\n",
        "        # Output layer using the hidden state from the last layer\n",
        "        #print(\"h_t shape\", h_t[-1].shape)\n",
        "        #out = self.fc(h_t[-1])  # No softmax here; it will be handled by the loss function\n",
        "        #print(\"out shape\", out.shape)\n",
        "\n",
        "        # Concatenate outputs along the time dimension\n",
        "        outputs = torch.cat(outputs, dim=1)  # Shape (batch_size, seq_length, output_size)\n",
        "\n",
        "        return outputs\n"
      ],
      "metadata": {
        "id": "KWfx01-DSCiK"
      },
      "execution_count": null,
      "outputs": []
    },
    {
      "cell_type": "code",
      "source": [
        "# Define sequence length (e.g., 10 time steps per sequence)\n",
        "sequence_length = 10\n",
        "\n",
        "# Function to create sequences of data for GRU\n",
        "def create_sequences(x, y, sequence_length):\n",
        "    sequences = []\n",
        "    labels = []\n",
        "    for i in range(len(x) - sequence_length):\n",
        "        # Create a sequence of `sequence_length` time steps\n",
        "        sequences.append(x[i:i + sequence_length])\n",
        "        #break\n",
        "        # Take the corresponding label from the last time step of the sequence\n",
        "        labels.append(y[i:i + sequence_length])\n",
        "\n",
        "    return np.array(sequences), np.array(labels)\n",
        "\n",
        "# Apply the function to your dataset\n",
        "X_train_sequences, y_train_sequences = create_sequences(X_train, y_train, sequence_length)\n",
        "X_test_sequences, y_test_sequences = create_sequences(X_test, y_test, sequence_length)\n",
        "X_val_sequences, y_val_sequences = create_sequences(X_val, y_val, sequence_length)\n",
        "\n",
        "# Print shapes to verify\n",
        "print(f\"X_train_sequences shape: {X_train_sequences.shape}\")  # Should be (num_sequences, sequence_length, input_size), (140727, 10, 79)\n",
        "print(f\"y_train_sequences shape: {y_train_sequences.shape}\")  # Should be (num_sequences, 1), (140727, 10, 1)\n",
        "print(f\"X_test_sequences shape: {X_test_sequences.shape}\")\n",
        "print(f\"y_test_sequences shape: {y_test_sequences.shape}\")\n",
        "print(f\"X_val_sequences shape: {X_val_sequences.shape}\")\n",
        "print(f\"y_val_sequences shape: {y_val_sequences.shape}\")\n",
        "#print(X_train_sequences[0])\n",
        "#print(y_train_sequences[0])"
      ],
      "metadata": {
        "colab": {
          "base_uri": "https://localhost:8080/"
        },
        "collapsed": true,
        "id": "vrqieyEyTSFn",
        "outputId": "2db3e15e-185c-4baa-a393-72d8efa19443"
      },
      "execution_count": null,
      "outputs": [
        {
          "output_type": "stream",
          "name": "stdout",
          "text": [
            "X_train_sequences shape: (140727, 10, 60)\n",
            "y_train_sequences shape: (140727, 10, 1)\n",
            "X_test_sequences shape: (30148, 10, 60)\n",
            "y_test_sequences shape: (30148, 10, 1)\n",
            "X_val_sequences shape: (30149, 10, 60)\n",
            "y_val_sequences shape: (30149, 10, 1)\n"
          ]
        }
      ]
    },
    {
      "cell_type": "markdown",
      "source": [
        "Train and Test with gesture analysis data"
      ],
      "metadata": {
        "id": "zX_GCage48wK"
      }
    },
    {
      "cell_type": "code",
      "source": [
        "#from itertools import count\n",
        "# Hyperparameters\n",
        "input_size = len(preprocessed_data.columns) - 1                       # Number of features in the input - 60\n",
        "hidden_size = 128                                                     # Number of hidden units in each GRU cell\n",
        "num_layers = 2                                                        # Number of GRU layers\n",
        "output_size = len(preprocessed_data['action_encoded'].unique())       # Number of classes for classification - 30\n",
        "learning_rate = 0.001\n",
        "\n",
        "# Initialize the model, criterion, and optimizer\n",
        "model = GRUNet(input_size, hidden_size, output_size, num_layers)\n",
        "criterion = nn.CrossEntropyLoss()  # Cross-entropy loss for classification\n",
        "optimizer = optim.Adam(model.parameters(), lr=learning_rate)\n"
      ],
      "metadata": {
        "id": "rRdd5jSu41zU"
      },
      "execution_count": null,
      "outputs": []
    },
    {
      "cell_type": "code",
      "source": [
        "# Example training loop\n",
        "num_epochs = 10\n",
        "batch_size = 64\n",
        "\n",
        "# Convert data to PyTorch tensors\n",
        "x_train_tensor = torch.tensor(X_train_sequences, dtype=torch.float32)\n",
        "y_train_tensor = torch.tensor(y_train_sequences, dtype=torch.long)\n",
        "x_test_tensor = torch.tensor(X_test_sequences, dtype=torch.float32)\n",
        "y_test_tensor = torch.tensor(y_test_sequences, dtype=torch.long)\n",
        "x_val_tensor = torch.tensor(X_val_sequences, dtype=torch.float32)\n",
        "y_val_tensor = torch.tensor(y_val_sequences, dtype=torch.long)\n",
        "\n",
        "# Create a DataLoader for batching\n",
        "train_data = torch.utils.data.TensorDataset(x_train_tensor, y_train_tensor)\n",
        "train_loader = torch.utils.data.DataLoader(dataset=train_data, batch_size=batch_size, shuffle=True)\n",
        "test_data = torch.utils.data.TensorDataset(x_test_tensor, y_test_tensor)\n",
        "test_loader = torch.utils.data.DataLoader(dataset=test_data, batch_size=batch_size, shuffle=False)\n",
        "val_data = torch.utils.data.TensorDataset(x_val_tensor, y_val_tensor)\n",
        "val_loader = torch.utils.data.DataLoader(dataset=val_data, batch_size=batch_size, shuffle=False)"
      ],
      "metadata": {
        "id": "EW4PYAESvQvD"
      },
      "execution_count": null,
      "outputs": []
    },
    {
      "cell_type": "markdown",
      "source": [
        "Train and validate the model"
      ],
      "metadata": {
        "id": "YL7iURg6Eiq3"
      }
    },
    {
      "cell_type": "code",
      "source": [
        "# Lists to store the loss values\n",
        "train_losses = []\n",
        "val_losses = []\n",
        "train_accuracies = []\n",
        "val_accuracies = []\n",
        "\n",
        "# Training loop\n",
        "num_epochs = 10\n",
        "\n",
        "for epoch in range(num_epochs):\n",
        "    model.train()\n",
        "    train_running_loss = 0.0\n",
        "    train_correct = 0\n",
        "    train_total = 0\n",
        "\n",
        "    for train_x, train_y in train_loader:\n",
        "        # Zero the parameter gradients\n",
        "        optimizer.zero_grad()\n",
        "\n",
        "        # Forward pass\n",
        "        train_outputs = model(train_x)  # Shape: (batch_size, sequence_length, output_size)\n",
        "\n",
        "        _, train_predicted = torch.max(train_outputs, dim=-1)  # Get predicted labels (shape: batch_size, sequence_length)\n",
        "\n",
        "        # Prepare for calculating accuracy\n",
        "        train_y = train_y.squeeze(-1)  # Now shape: (64, 10) # Squeeze the last dimension of train_y\n",
        "        train_total += train_y.size(0) * train_y.size(1)\n",
        "        train_correct += (train_predicted == train_y).sum().item()\n",
        "\n",
        "        # Reshape output for loss calculation\n",
        "        # CrossEntropyLoss expects (batch_size * sequence_length, output_size)\n",
        "        # Targets should be (batch_size * sequence_length)\n",
        "        train_loss = criterion(train_outputs.view(-1, output_size), train_y.view(-1))\n",
        "\n",
        "        # Backward pass and optimization\n",
        "        train_loss.backward()\n",
        "        optimizer.step()\n",
        "\n",
        "        # collect losses\n",
        "        train_running_loss += train_loss.item()\n",
        "\n",
        "    # Average loss for the epoch\n",
        "    avg_train_loss = train_running_loss / len(train_loader)\n",
        "    train_losses.append(avg_train_loss)\n",
        "\n",
        "    # Training accuracy per epoch\n",
        "    train_accuracy = train_correct / train_total\n",
        "    train_accuracies.append(train_accuracy)\n",
        "\n",
        "#   Model evaluation using validation data set\n",
        "    model.eval()  # Set model to evaluation mode\n",
        "    val_running_loss = 0.0\n",
        "    val_outputs = None\n",
        "    val_targets = None\n",
        "\n",
        "    with torch.no_grad():  # Disable gradient calculations for inference\n",
        "        val_correct = 0\n",
        "        val_total = 0\n",
        "\n",
        "        for val_x, val_y in val_loader:\n",
        "            val_outputs = model(val_x)\n",
        "            _, predicted = torch.max(val_outputs, dim=-1)  # Get predicted labels (shape: batch_size, sequence_length)\n",
        "\n",
        "            val_loss = criterion(val_outputs.view(-1, output_size), val_y.view(-1))  # Calculate validation loss\n",
        "            val_running_loss += val_loss.item()\n",
        "\n",
        "            # Prepare for calculating accuracy\n",
        "            val_y = val_y.squeeze(-1)  # Squeeze the last dimension of batch_y. Now shape: (64, 10)\n",
        "            val_total += val_y.size(0) * val_y.size(1)\n",
        "            val_correct += (predicted == val_y).sum().item()\n",
        "\n",
        "\n",
        "        # Average validation loss\n",
        "        avg_val_loss = val_running_loss / len(val_loader)\n",
        "        val_losses.append(avg_val_loss)\n",
        "\n",
        "        # validation accuracy per epoch\n",
        "        val_accuracy = val_correct / val_total\n",
        "        val_accuracies.append(val_accuracy)\n",
        "        #print(f'Validation Accuracy: {val_accuracy * 100:.2f}%')\n",
        "\n",
        "    # Print training and validation loss for each epoch\n",
        "    print(f'Epoch [{epoch+1}/{num_epochs}], Training Loss: {avg_train_loss:.4f}, Validation Loss: {avg_val_loss:.4f}'f', Training Accuracy: {train_accuracy * 100:.2f}%' f', Validation Accuracy: {val_accuracy * 100:.2f}%')\n",
        "\n",
        "# Plotting the training and validation loss\n",
        "plt.figure(figsize=(10, 5))\n",
        "plt.plot(train_losses, label='Training Loss', color='blue')\n",
        "plt.plot(val_losses, label='Validation Loss', color='orange')\n",
        "plt.title('Training and Validation Loss')\n",
        "plt.xlabel('Epochs')\n",
        "plt.ylabel('Loss')\n",
        "plt.legend()\n",
        "plt.grid()\n",
        "plt.show()\n",
        "\n",
        "\n",
        "# Plotting the training and validation accuracies\n",
        "plt.figure(figsize=(10, 5))\n",
        "plt.plot(train_accuracies, label='Training Accuracy', color='blue')\n",
        "plt.plot(val_accuracies, label='Validation Accuracy', color='orange')\n",
        "plt.title('Training and Validation Accuracy')\n",
        "plt.xlabel('Epochs')\n",
        "plt.ylabel('Accuracy')\n",
        "plt.legend()\n",
        "plt.grid()\n",
        "plt.show()\n"
      ],
      "metadata": {
        "colab": {
          "base_uri": "https://localhost:8080/",
          "height": 1000
        },
        "id": "nL0vgZCmefkR",
        "outputId": "71d3e586-f9a2-4a8c-cd5b-322e9437e787"
      },
      "execution_count": null,
      "outputs": [
        {
          "output_type": "stream",
          "name": "stdout",
          "text": [
            "Epoch [1/10], Training Loss: 1.2970, Validation Loss: 0.7854,Training Accuracy: 56.71%,Validation Accuracy: 73.69%\n",
            "Epoch [2/10], Training Loss: 0.5756, Validation Loss: 0.4559,Training Accuracy: 81.50%,Validation Accuracy: 85.37%\n",
            "Epoch [3/10], Training Loss: 0.3420, Validation Loss: 0.3068,Training Accuracy: 89.68%,Validation Accuracy: 90.44%\n",
            "Epoch [4/10], Training Loss: 0.2215, Validation Loss: 0.2261,Training Accuracy: 93.63%,Validation Accuracy: 92.95%\n",
            "Epoch [5/10], Training Loss: 0.1508, Validation Loss: 0.1766,Training Accuracy: 95.86%,Validation Accuracy: 94.65%\n",
            "Epoch [6/10], Training Loss: 0.1059, Validation Loss: 0.1347,Training Accuracy: 97.23%,Validation Accuracy: 95.95%\n",
            "Epoch [7/10], Training Loss: 0.0767, Validation Loss: 0.1171,Training Accuracy: 98.11%,Validation Accuracy: 96.31%\n",
            "Epoch [8/10], Training Loss: 0.0577, Validation Loss: 0.1019,Training Accuracy: 98.64%,Validation Accuracy: 96.72%\n",
            "Epoch [9/10], Training Loss: 0.0455, Validation Loss: 0.0966,Training Accuracy: 98.95%,Validation Accuracy: 96.91%\n",
            "Epoch [10/10], Training Loss: 0.0352, Validation Loss: 0.0791,Training Accuracy: 99.24%,Validation Accuracy: 97.52%\n"
          ]
        },
        {
          "output_type": "display_data",
          "data": {
            "text/plain": [
              "<Figure size 1000x500 with 1 Axes>"
            ],
            "image/png": "[encoded data removed]"
          },
          "metadata": {}
        },
        {
          "output_type": "display_data",
          "data": {
            "text/plain": [
              "<Figure size 1000x500 with 1 Axes>"
            ],
            "image/png": "[encoded data removed]"
          },
          "metadata": {}
        }
      ]
    },
    {
      "cell_type": "code",
      "source": [
        "# Save the model\n",
        "model_path = '/content/drive/My Drive/Colab Notebooks/Advance data mining/GRU_Gesture_Analysis_OnOriginalData_model.pth'  #path\n",
        "torch.save(model.state_dict(), model_path)\n"
      ],
      "metadata": {
        "id": "Pw6JRTQ1LzDh"
      },
      "execution_count": null,
      "outputs": []
    },
    {
      "cell_type": "markdown",
      "source": [
        "Test the model using test set"
      ],
      "metadata": {
        "id": "lVR8a_jsJxR1"
      }
    },
    {
      "cell_type": "code",
      "source": [
        "# Load the model\n",
        "model_path = '/content/drive/My Drive/Colab Notebooks/Advance data mining/GRU_Gesture_Analysis_OnOriginalData_model.pth'  #path\n",
        "model = GRUNet(input_size, hidden_size, output_size, num_layers) # Reinitialize the model\n",
        "model.load_state_dict(torch.load(model_path, weights_only=True))\n",
        "model.eval()  # Set the model to evaluation mode after loading\n",
        "print(f'Model loaded from {model_path}')\n",
        "\n",
        "\n",
        "# Initialize variables to calculate accuracy\n",
        "test_correct = 0\n",
        "test_total = 0\n",
        "\n",
        "# Disable gradient calculation for inference\n",
        "with torch.no_grad():\n",
        "    for test_x, test_y in test_loader:  # Assuming you have a test_loader\n",
        "        # Forward pass through the model\n",
        "        test_outputs = model(test_x)  # Shape: (batch_size, seq_length, num_classes)\n",
        "\n",
        "        # Get the indices of the max logit values along the last dimension (num_classes)\n",
        "        _, predicted_indices = torch.max(test_outputs, dim=-1)  # Shape: (batch_size, seq_length)\n",
        "\n",
        "\n",
        "        # Squeeze batch_y to remove the last dimension\n",
        "        test_y = test_y.squeeze(-1)  # Now shape: (batch_size, seq_length)\n",
        "\n",
        "        # Calculate total counts\n",
        "        test_total += test_y.numel()  # Total number of labels in the test set\n",
        "        test_correct += (predicted_indices == test_y).sum().item()  # Compare predictions with true labels\n",
        "\n",
        "# Calculate accuracy\n",
        "test_accuracy = test_correct / test_total\n",
        "print(f'Test Accuracy: {test_accuracy * 100:.2f}%')\n"
      ],
      "metadata": {
        "colab": {
          "base_uri": "https://localhost:8080/"
        },
        "id": "MeS_-o0fJ1hZ",
        "outputId": "865b558c-a7b2-4209-d53c-6f6947048c3a"
      },
      "execution_count": null,
      "outputs": [
        {
          "output_type": "stream",
          "name": "stdout",
          "text": [
            "Model loaded from /content/drive/My Drive/Colab Notebooks/Advance data mining/GRU_Gesture_Analysis_OnOriginalData_model.pth\n",
            "Test Accuracy: 97.63%\n"
          ]
        }
      ]
    },
    {
      "cell_type": "code",
      "source": [],
      "metadata": {
        "id": "1ImwFrNKPifA"
      },
      "execution_count": null,
      "outputs": []
    },
    {
      "cell_type": "code",
      "source": [],
      "metadata": {
        "id": "mopaZuscPiV1"
      },
      "execution_count": null,
      "outputs": []
    },
    {
      "cell_type": "code",
      "source": [],
      "metadata": {
        "id": "4n7GVREDPiSR"
      },
      "execution_count": null,
      "outputs": []
    },
    {
      "cell_type": "code",
      "source": [],
      "metadata": {
        "id": "dsYKp2BhPiJh"
      },
      "execution_count": null,
      "outputs": []
    },
    {
      "cell_type": "code",
      "source": [],
      "metadata": {
        "id": "o3JcSbOpPiGk"
      },
      "execution_count": null,
      "outputs": []
    },
    {
      "cell_type": "code",
      "source": [],
      "metadata": {
        "id": "BtCvJDm0PiC9"
      },
      "execution_count": null,
      "outputs": []
    },
    {
      "cell_type": "code",
      "source": [],
      "metadata": {
        "id": "TImzm4bGPh54"
      },
      "execution_count": null,
      "outputs": []
    },
    {
      "cell_type": "code",
      "source": [],
      "metadata": {
        "id": "EtmZlWvTPh2t"
      },
      "execution_count": null,
      "outputs": []
    },
    {
      "cell_type": "code",
      "source": [],
      "metadata": {
        "id": "Hx-mqPS6PhzP"
      },
      "execution_count": null,
      "outputs": []
    },
    {
      "cell_type": "code",
      "source": [],
      "metadata": {
        "id": "SfYQ-_-wPhqb"
      },
      "execution_count": null,
      "outputs": []
    },
    {
      "cell_type": "code",
      "source": [],
      "metadata": {
        "id": "keyO10K5Phm6"
      },
      "execution_count": null,
      "outputs": []
    },
    {
      "cell_type": "code",
      "source": [],
      "metadata": {
        "id": "fm4n8YzpPhjZ"
      },
      "execution_count": null,
      "outputs": []
    }
  ]
}